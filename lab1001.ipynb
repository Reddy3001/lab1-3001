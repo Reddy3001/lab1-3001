{
 "cells": [
  {
   "cell_type": "markdown",
   "id": "5ac54cea",
   "metadata": {},
   "source": [
    "#### Adding imports"
   ]
  },
  {
   "cell_type": "code",
   "execution_count": 30,
   "id": "d87b2c63",
   "metadata": {},
   "outputs": [],
   "source": [
    "import numpy as np\n"
   ]
  },
  {
   "cell_type": "markdown",
   "id": "ff066310",
   "metadata": {},
   "source": [
    "##### Create an array that starts from the integer 1, ends at 20, incremented by 3."
   ]
  },
  {
   "cell_type": "code",
   "execution_count": 31,
   "id": "bf8c525e",
   "metadata": {},
   "outputs": [
    {
     "name": "stdout",
     "output_type": "stream",
     "text": [
      "[ 1  4  7 10 13 16 19]\n"
     ]
    }
   ],
   "source": [
    "integersArr = np.arange(1, 21, 3)\n",
    "print(integersArr)"
   ]
  },
  {
   "cell_type": "markdown",
   "id": "48c2bacb",
   "metadata": {},
   "source": [
    "#### Create a new array of shape 3 with random numbers between 0 and 1."
   ]
  },
  {
   "cell_type": "code",
   "execution_count": 32,
   "id": "7e15e836",
   "metadata": {},
   "outputs": [
    {
     "name": "stdout",
     "output_type": "stream",
     "text": [
      "[0.0691081  0.07625474 0.78729569]\n"
     ]
    }
   ],
   "source": [
    "arr = np.random.rand(3)\n",
    "print(arr)"
   ]
  },
  {
   "cell_type": "markdown",
   "id": "074d4c24",
   "metadata": {},
   "source": [
    "#####  4.Create a 2 D array [[10,20,45], [30,12,16], [42,17,56]] and perform the following operations: Slice the 2D array to get the first two rows, slice the 2D array to get the last two rows."
   ]
  },
  {
   "cell_type": "code",
   "execution_count": 33,
   "id": "11fbdf7a",
   "metadata": {},
   "outputs": [
    {
     "name": "stdout",
     "output_type": "stream",
     "text": [
      "Original Array:\n",
      " [[10 20 45]\n",
      " [30 12 16]\n",
      " [42 17 56]]\n",
      "\n",
      "First two rows:\n",
      " [[10 20 45]\n",
      " [30 12 16]]\n",
      "\n",
      "Last two rows:\n",
      " [[30 12 16]\n",
      " [42 17 56]]\n"
     ]
    }
   ],
   "source": [
    "\n",
    "my_arr = np.array([\n",
    "    [10, 20, 45],\n",
    "    [30, 12, 16],\n",
    "    [42, 17, 56]\n",
    "])\n",
    "\n",
    "\n",
    "first_two_rows = my_arr[:2]\n",
    "\n",
    "\n",
    "last_two_rows = my_arr[1:]\n",
    "\n",
    "\n",
    "print(\"Original Array:\\n\", my_arr)\n",
    "print(\"\\nFirst two rows:\\n\", first_two_rows)\n",
    "print(\"\\nLast two rows:\\n\", last_two_rows)\n"
   ]
  },
  {
   "cell_type": "markdown",
   "id": "2abf42b2",
   "metadata": {},
   "source": [
    "#### 5.Create two 2x2 arrays and demonstrate how you can stack the elements vertically, horizontally, and split the arrays into smaller arrays."
   ]
  },
  {
   "cell_type": "code",
   "execution_count": 34,
   "id": "e167132a",
   "metadata": {},
   "outputs": [
    {
     "name": "stdout",
     "output_type": "stream",
     "text": [
      "The results are\n",
      "Array 1:\n",
      " [[1 2]\n",
      " [3 4]]\n",
      "\n",
      "Array 2:\n",
      " [[5 6]\n",
      " [7 8]]\n",
      "\n",
      "Vertically Stacked:\n",
      " [[1 2]\n",
      " [3 4]\n",
      " [5 6]\n",
      " [7 8]]\n",
      "\n",
      "Horizontally Stacked:\n",
      " [[1 2 5 6]\n",
      " [3 4 7 8]]\n",
      "\n",
      "Split Array 1 Horizontally:\n",
      "[[1]\n",
      " [3]]\n",
      "[[2]\n",
      " [4]]\n",
      "\n",
      "Split Array 2 Vertically:\n",
      "[[5 6]]\n",
      "[[7 8]]\n"
     ]
    }
   ],
   "source": [
    "\n",
    "array15 = np.array([[1, 2],\n",
    "                   [3, 4]])\n",
    "\n",
    "array16 = np.array([[5, 6],\n",
    "                   [7, 8]])\n",
    "\n",
    "vertical_stack = np.vstack((array15, array16))\n",
    "\n",
    "\n",
    "horizontal_stack = np.hstack((array15, array16))\n",
    "\n",
    "split_horizontally = np.hsplit(array15, 2) \n",
    "\n",
    "\n",
    "split_vertically = np.vsplit(array16, 2)  \n",
    "\n",
    "print(\"The results are\")\n",
    "print(\"Array 1:\\n\", array15)\n",
    "print(\"\\nArray 2:\\n\", array16)\n",
    "print(\"\\nVertically Stacked:\\n\", vertical_stack)\n",
    "print(\"\\nHorizontally Stacked:\\n\", horizontal_stack)\n",
    "\n",
    "print(\"\\nSplit Array 1 Horizontally:\")\n",
    "for part in split_horizontally:\n",
    "    print(part)\n",
    "\n",
    "print(\"\\nSplit Array 2 Vertically:\")\n",
    "for part in split_vertically:\n",
    "    print(part)"
   ]
  },
  {
   "cell_type": "markdown",
   "id": "d8e34fa9",
   "metadata": {},
   "source": [
    "#### 6.Create two matrices X= ([[5, 7, 2], [4, 5, 6], [7, 4 ,2]]) Y= ([[4, 2], [6, 2], [4, 2]]), Is it possible to multiply these matrices? Demonstrate the case when it is not possible to."
   ]
  },
  {
   "cell_type": "markdown",
   "id": "32032dcc",
   "metadata": {},
   "source": [
    "#### yes the matrix multiplication is possible . Because here the number of columns in matrix x is equal to no of rows in y."
   ]
  },
  {
   "cell_type": "code",
   "execution_count": 35,
   "id": "b0e9f92a",
   "metadata": {},
   "outputs": [
    {
     "name": "stdout",
     "output_type": "stream",
     "text": [
      "Result of X × Y:\n",
      " [[70 28]\n",
      " [70 30]\n",
      " [60 26]]\n"
     ]
    }
   ],
   "source": [
    "\n",
    "\n",
    "X = np.array([[5, 7, 2],\n",
    "              [4, 5, 6],\n",
    "              [7, 4, 2]])\n",
    "\n",
    "Y = np.array([[4, 2],\n",
    "              [6, 2],\n",
    "              [4, 2]])\n",
    "\n",
    "result = np.dot(X, Y)\n",
    "\n",
    "print(\"Result of X × Y:\\n\", result)\n"
   ]
  },
  {
   "cell_type": "markdown",
   "id": "2f63c1e3",
   "metadata": {},
   "source": [
    "#### Case where the multiplication is not possible. So commenting the below line , for error free execution"
   ]
  },
  {
   "cell_type": "code",
   "execution_count": 36,
   "id": "42ccbebe",
   "metadata": {},
   "outputs": [],
   "source": [
    "# invalid_result = np.dot(Y, X)\n",
    "# print(invalid_result)"
   ]
  },
  {
   "cell_type": "markdown",
   "id": "ffb2d897",
   "metadata": {},
   "source": [
    "####  7.Create two arrays, x = ([2, -1, -8]) y = ([3, 1, -2]), Find the Shape, Number of dimensions of vector x. Reshape the vector x to a matrix of size (3,1) and determine the number of dimensions after reshaping y to a matrix of (3,1)."
   ]
  },
  {
   "cell_type": "code",
   "execution_count": 37,
   "id": "51c02c23",
   "metadata": {},
   "outputs": [
    {
     "name": "stdout",
     "output_type": "stream",
     "text": [
      "Original vector x: [ 2 -1 -8]\n",
      "Shape of x: (3,)\n",
      "Number of dimensions of x: 1\n",
      "\n",
      "Reshaped x to (3,1):\n",
      " [[ 2]\n",
      " [-1]\n",
      " [-8]]\n",
      "Shape of reshaped x: (3, 1)\n",
      "Number of dimensions of reshaped x: 2\n",
      "\n",
      "Reshaped y to (3,1):\n",
      " [[ 3]\n",
      " [ 1]\n",
      " [-2]]\n",
      "Shape of reshaped y: (3, 1)\n",
      "Number of dimensions of reshaped y: 2\n"
     ]
    }
   ],
   "source": [
    "\n",
    "x = np.array([2, -1, -8])\n",
    "y = np.array([3, 1, -2])\n",
    "\n",
    "print(\"Original vector x:\", x)\n",
    "print(\"Shape of x:\", x.shape)\n",
    "print(\"Number of dimensions of x:\", x.ndim)\n",
    "\n",
    "x_reshaped = x.reshape(3, 1)\n",
    "print(\"\\nReshaped x to (3,1):\\n\", x_reshaped)\n",
    "print(\"Shape of reshaped x:\", x_reshaped.shape)\n",
    "print(\"Number of dimensions of reshaped x:\", x_reshaped.ndim)\n",
    "\n",
    "y_reshaped = y.reshape(3, 1)\n",
    "print(\"\\nReshaped y to (3,1):\\n\", y_reshaped)\n",
    "print(\"Shape of reshaped y:\", y_reshaped.shape)\n",
    "print(\"Number of dimensions of reshaped y:\", y_reshaped.ndim)\n"
   ]
  },
  {
   "cell_type": "markdown",
   "id": "9fd115c6",
   "metadata": {},
   "source": [
    "##### It helps in operation between arrays of different sizes by automatically expanding the smaller one "
   ]
  },
  {
   "cell_type": "code",
   "execution_count": 38,
   "id": "b69da812",
   "metadata": {},
   "outputs": [
    {
     "name": "stdout",
     "output_type": "stream",
     "text": [
      "Original Matrix:\n",
      " [[1 2 3]\n",
      " [4 5 6]\n",
      " [7 8 9]]\n",
      "\n",
      "Vector:\n",
      " [1 2 3]\n",
      "\n",
      "Matrix - Vector (Broadcasted Subtraction):\n",
      " [[0 0 0]\n",
      " [3 3 3]\n",
      " [6 6 6]]\n",
      "\n",
      "Matrix * Vector (Broadcasted Multiplication):\n",
      " [[ 1  4  9]\n",
      " [ 4 10 18]\n",
      " [ 7 16 27]]\n"
     ]
    }
   ],
   "source": [
    "matrix = np.array([\n",
    "    [1, 2, 3],\n",
    "    [4, 5, 6],\n",
    "    [7, 8, 9]\n",
    "])\n",
    "\n",
    "vector = np.array([1, 2, 3])\n",
    "\n",
    "\n",
    "sub_result = matrix - vector\n",
    "\n",
    "\n",
    "mul_result = matrix * vector\n",
    "\n",
    "print(\"Original Matrix:\\n\", matrix)\n",
    "print(\"\\nVector:\\n\", vector)\n",
    "print(\"\\nMatrix - Vector (Broadcasted Subtraction):\\n\", sub_result)\n",
    "print(\"\\nMatrix * Vector (Broadcasted Multiplication):\\n\", mul_result)\n",
    "\n"
   ]
  },
  {
   "cell_type": "markdown",
   "id": "52714f1d",
   "metadata": {},
   "source": [
    "#####  9. Add Markdown text, with a headline, that provides a very brief overview of the graphs (e.g., one sentence for each). "
   ]
  },
  {
   "cell_type": "markdown",
   "id": "1d126b4b",
   "metadata": {},
   "source": [
    "- Line Plot: it  represents the data on a continuous scale by connecting different points on a single line.\n",
    "\n",
    "- Scatter Plot: Represents the connection between two  values in which each dot represents a different data point.  \n",
    "\n",
    "- Bar Chart: Uses bars whose lengths correspond to their values to highlight at particular gaps.\n",
    "\n",
    "- Histogram: Grouping values into bons and displaying how many data points fall into each bin."
   ]
  },
  {
   "cell_type": "markdown",
   "id": "476b1da6",
   "metadata": {},
   "source": [
    "##### Part-B"
   ]
  },
  {
   "cell_type": "code",
   "execution_count": 39,
   "id": "c71f06e0",
   "metadata": {},
   "outputs": [
    {
     "name": "stdout",
     "output_type": "stream",
     "text": [
      "The value of x1 is: 1.669211195928752\n",
      "The value of x2 is: -1.5826972010178109\n",
      "The value of x3 is: -1.852417302798981\n",
      "Residuals: []\n",
      "Rank of coefficient matrix (A): 2\n",
      "Rank of augmented matrix [A|b]: 2\n",
      " Infinite solutions\n"
     ]
    }
   ],
   "source": [
    "\n",
    "\n",
    "coeff_matrix = np.array([[2, 3, -4],\n",
    "                         [1, -4, 0]])\n",
    "\n",
    "rhs_vector = np.array([6, 8])\n",
    "\n",
    "\n",
    "solution_vector, residuals, rank_A, singular_values = np.linalg.lstsq(coeff_matrix, rhs_vector, rcond=None)\n",
    "\n",
    "\n",
    "augmented_matrix = np.hstack((coeff_matrix, rhs_vector.reshape(-1, 1)))\n",
    "\n",
    "\n",
    "rank_augmented = np.linalg.matrix_rank(augmented_matrix)\n",
    "\n",
    "x1, x2, x3 = solution_vector\n",
    "\n",
    "\n",
    "print(\"The value of x1 is:\", x1)\n",
    "print(\"The value of x2 is:\", x2)\n",
    "print(\"The value of x3 is:\", x3)\n",
    "print(\"Residuals:\", residuals)\n",
    "print(\"Rank of coefficient matrix (A):\", rank_A)\n",
    "print(\"Rank of augmented matrix [A|b]:\", rank_augmented)\n",
    "\n",
    "if rank_A == rank_augmented:\n",
    "    if rank_A < coeff_matrix.shape[1]:\n",
    "        print(\" Infinite solutions\")\n",
    "    else:\n",
    "        print(\" Unique solution\")\n",
    "else:\n",
    "    print(\"No solution\")"
   ]
  },
  {
   "cell_type": "code",
   "execution_count": 40,
   "id": "982ee670",
   "metadata": {},
   "outputs": [
    {
     "name": "stdout",
     "output_type": "stream",
     "text": [
      "The value of y1 is: 7.460674157303374\n",
      "The value of y2 is: -4.629213483146074\n",
      "The value of y3 is: -6.179775280898881\n",
      "Residuals: []\n",
      "Rank of coefficient matrix (A): 2\n",
      "Rank of augmented matrix [A|b]: 2\n",
      "Infinite solutions\n"
     ]
    }
   ],
   "source": [
    "\n",
    "coeff_matrix = np.array([[3, -4, 5],\n",
    "                         [-1, 2, -4]])\n",
    "\n",
    "\n",
    "rhs_vector = np.array([10, 8])\n",
    "\n",
    "\n",
    "solution_vector, residuals, rank_coeff, singular_values = np.linalg.lstsq(coeff_matrix, rhs_vector, rcond=None)\n",
    "\n",
    "\n",
    "augmented_matrix = np.hstack((coeff_matrix, rhs_vector.reshape(-1, 1)))\n",
    "\n",
    "\n",
    "rank_augmented = np.linalg.matrix_rank(augmented_matrix)\n",
    "\n",
    "\n",
    "y1, y2, y3 = solution_vector\n",
    "\n",
    "\n",
    "print(\"The value of y1 is:\", y1)\n",
    "print(\"The value of y2 is:\", y2)\n",
    "print(\"The value of y3 is:\", y3)\n",
    "print(\"Residuals:\", residuals)\n",
    "print(\"Rank of coefficient matrix (A):\", rank_coeff)\n",
    "print(\"Rank of augmented matrix [A|b]:\", rank_augmented)\n",
    "\n",
    "\n",
    "if rank_coeff == rank_augmented:\n",
    "    if rank_coeff < coeff_matrix.shape[1]:\n",
    "        print(\"Infinite solutions\")\n",
    "    else:\n",
    "        print(\"Unique solution\")\n",
    "else:\n",
    "    print(\"No solution\")"
   ]
  }
 ],
 "metadata": {
  "kernelspec": {
   "display_name": "Python 3",
   "language": "python",
   "name": "python3"
  },
  "language_info": {
   "codemirror_mode": {
    "name": "ipython",
    "version": 3
   },
   "file_extension": ".py",
   "mimetype": "text/x-python",
   "name": "python",
   "nbconvert_exporter": "python",
   "pygments_lexer": "ipython3",
   "version": "3.11.9"
  }
 },
 "nbformat": 4,
 "nbformat_minor": 5
}
